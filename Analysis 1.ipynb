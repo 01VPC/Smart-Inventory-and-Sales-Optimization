{
 "cells": [
  {
   "cell_type": "code",
   "execution_count": 1,
   "id": "7b6e17aa-2156-41d4-8e10-48c9fad9dfba",
   "metadata": {},
   "outputs": [],
   "source": [
    "import pandas as pd"
   ]
  },
  {
   "cell_type": "code",
   "execution_count": 2,
   "id": "72fc9634-52d4-45b4-8289-87ceadd15c1e",
   "metadata": {},
   "outputs": [],
   "source": [
    "test = pd.read_csv(\"dataset.csv\")"
   ]
  },
  {
   "cell_type": "code",
   "execution_count": 3,
   "id": "e3413bc2-dec8-463d-891b-7acb8d3cee67",
   "metadata": {},
   "outputs": [
    {
     "data": {
      "text/html": [
       "<div>\n",
       "<style scoped>\n",
       "    .dataframe tbody tr th:only-of-type {\n",
       "        vertical-align: middle;\n",
       "    }\n",
       "\n",
       "    .dataframe tbody tr th {\n",
       "        vertical-align: top;\n",
       "    }\n",
       "\n",
       "    .dataframe thead th {\n",
       "        text-align: right;\n",
       "    }\n",
       "</style>\n",
       "<table border=\"1\" class=\"dataframe\">\n",
       "  <thead>\n",
       "    <tr style=\"text-align: right;\">\n",
       "      <th></th>\n",
       "      <th>Invoice/Item Number</th>\n",
       "      <th>Date</th>\n",
       "      <th>Store Number</th>\n",
       "      <th>Store Name</th>\n",
       "      <th>Address</th>\n",
       "      <th>City</th>\n",
       "      <th>Zip Code</th>\n",
       "      <th>Store Location</th>\n",
       "      <th>County Number</th>\n",
       "      <th>County</th>\n",
       "      <th>...</th>\n",
       "      <th>Item Number</th>\n",
       "      <th>Item Description</th>\n",
       "      <th>Pack</th>\n",
       "      <th>Bottle Volume (ml)</th>\n",
       "      <th>State Bottle Cost</th>\n",
       "      <th>State Bottle Retail</th>\n",
       "      <th>Bottles Sold</th>\n",
       "      <th>Sale (Dollars)</th>\n",
       "      <th>Volume Sold (Liters)</th>\n",
       "      <th>Volume Sold (Gallons)</th>\n",
       "    </tr>\n",
       "  </thead>\n",
       "  <tbody>\n",
       "    <tr>\n",
       "      <th>0</th>\n",
       "      <td>INV-16131500152</td>\n",
       "      <td>12-06-2018</td>\n",
       "      <td>4988</td>\n",
       "      <td>HAPPY'S STORES</td>\n",
       "      <td>5925 UNIVERSITY AVE</td>\n",
       "      <td>Ahmedabad</td>\n",
       "      <td>50613</td>\n",
       "      <td>POINT (-92.429331 42.512766)</td>\n",
       "      <td>7</td>\n",
       "      <td>Ahmedabad</td>\n",
       "      <td>...</td>\n",
       "      <td>27890</td>\n",
       "      <td>Nutty, smooth, and richly almond-flavored</td>\n",
       "      <td>12</td>\n",
       "      <td>750</td>\n",
       "      <td>18.0</td>\n",
       "      <td>27.0</td>\n",
       "      <td>1</td>\n",
       "      <td>27.0</td>\n",
       "      <td>0.75</td>\n",
       "      <td>0.19</td>\n",
       "    </tr>\n",
       "    <tr>\n",
       "      <th>1</th>\n",
       "      <td>INV-16062000032</td>\n",
       "      <td>12-04-2018</td>\n",
       "      <td>2622</td>\n",
       "      <td>HY-VEE FOOD STORE / IOWA CITY</td>\n",
       "      <td>1125 N DODGE ST</td>\n",
       "      <td>Bangalore</td>\n",
       "      <td>52240</td>\n",
       "      <td>POINT (-91.518868 41.676095)</td>\n",
       "      <td>52</td>\n",
       "      <td>Bangalore</td>\n",
       "      <td>...</td>\n",
       "      <td>27890</td>\n",
       "      <td>Nutty, smooth, and richly almond-flavored</td>\n",
       "      <td>12</td>\n",
       "      <td>750</td>\n",
       "      <td>18.0</td>\n",
       "      <td>27.0</td>\n",
       "      <td>3</td>\n",
       "      <td>81.0</td>\n",
       "      <td>2.25</td>\n",
       "      <td>0.59</td>\n",
       "    </tr>\n",
       "    <tr>\n",
       "      <th>2</th>\n",
       "      <td>INV-15962400282</td>\n",
       "      <td>11/29/2018</td>\n",
       "      <td>4988</td>\n",
       "      <td>HAPPY'S STORES</td>\n",
       "      <td>5925 UNIVERSITY AVE</td>\n",
       "      <td>Mumbai</td>\n",
       "      <td>50613</td>\n",
       "      <td>POINT (-92.429331 42.512766)</td>\n",
       "      <td>7</td>\n",
       "      <td>Mumbai</td>\n",
       "      <td>...</td>\n",
       "      <td>27890</td>\n",
       "      <td>Nutty, smooth, and richly almond-flavored</td>\n",
       "      <td>12</td>\n",
       "      <td>750</td>\n",
       "      <td>18.0</td>\n",
       "      <td>27.0</td>\n",
       "      <td>1</td>\n",
       "      <td>27.0</td>\n",
       "      <td>0.75</td>\n",
       "      <td>0.19</td>\n",
       "    </tr>\n",
       "    <tr>\n",
       "      <th>3</th>\n",
       "      <td>INV-16226300035</td>\n",
       "      <td>12-11-2018</td>\n",
       "      <td>2545</td>\n",
       "      <td>HY-VEE / IOWA CITY</td>\n",
       "      <td>310 N 1ST ST</td>\n",
       "      <td>Chennai</td>\n",
       "      <td>52245</td>\n",
       "      <td>POINT (-91.528105 42.207428)</td>\n",
       "      <td>52</td>\n",
       "      <td>Chennai</td>\n",
       "      <td>...</td>\n",
       "      <td>27890</td>\n",
       "      <td>Nutty, smooth, and richly almond-flavored</td>\n",
       "      <td>12</td>\n",
       "      <td>750</td>\n",
       "      <td>18.0</td>\n",
       "      <td>27.0</td>\n",
       "      <td>2</td>\n",
       "      <td>54.0</td>\n",
       "      <td>1.50</td>\n",
       "      <td>0.39</td>\n",
       "    </tr>\n",
       "    <tr>\n",
       "      <th>4</th>\n",
       "      <td>INV-16296600079</td>\n",
       "      <td>12/13/2018</td>\n",
       "      <td>2582</td>\n",
       "      <td>HY-VEE #2 FOOD STORE / MASON CITY</td>\n",
       "      <td>551 S ILLINOIS AVE</td>\n",
       "      <td>Kolkata</td>\n",
       "      <td>50401</td>\n",
       "      <td>POINT (-93.17114 43.14623)</td>\n",
       "      <td>17</td>\n",
       "      <td>Delhi</td>\n",
       "      <td>...</td>\n",
       "      <td>27890</td>\n",
       "      <td>Nutty, smooth, and richly almond-flavored</td>\n",
       "      <td>12</td>\n",
       "      <td>750</td>\n",
       "      <td>18.0</td>\n",
       "      <td>27.0</td>\n",
       "      <td>1</td>\n",
       "      <td>27.0</td>\n",
       "      <td>0.75</td>\n",
       "      <td>0.19</td>\n",
       "    </tr>\n",
       "  </tbody>\n",
       "</table>\n",
       "<p>5 rows × 24 columns</p>\n",
       "</div>"
      ],
      "text/plain": [
       "  Invoice/Item Number        Date  Store Number  \\\n",
       "0     INV-16131500152  12-06-2018          4988   \n",
       "1     INV-16062000032  12-04-2018          2622   \n",
       "2     INV-15962400282  11/29/2018          4988   \n",
       "3     INV-16226300035  12-11-2018          2545   \n",
       "4     INV-16296600079  12/13/2018          2582   \n",
       "\n",
       "                          Store Name              Address       City  \\\n",
       "0                     HAPPY'S STORES  5925 UNIVERSITY AVE  Ahmedabad   \n",
       "1      HY-VEE FOOD STORE / IOWA CITY      1125 N DODGE ST  Bangalore   \n",
       "2                     HAPPY'S STORES  5925 UNIVERSITY AVE     Mumbai   \n",
       "3                 HY-VEE / IOWA CITY         310 N 1ST ST    Chennai   \n",
       "4  HY-VEE #2 FOOD STORE / MASON CITY   551 S ILLINOIS AVE    Kolkata   \n",
       "\n",
       "   Zip Code                Store Location  County Number     County  ...  \\\n",
       "0     50613  POINT (-92.429331 42.512766)              7  Ahmedabad  ...   \n",
       "1     52240  POINT (-91.518868 41.676095)             52  Bangalore  ...   \n",
       "2     50613  POINT (-92.429331 42.512766)              7     Mumbai  ...   \n",
       "3     52245  POINT (-91.528105 42.207428)             52    Chennai  ...   \n",
       "4     50401    POINT (-93.17114 43.14623)             17      Delhi  ...   \n",
       "\n",
       "   Item Number                           Item Description  Pack  \\\n",
       "0        27890  Nutty, smooth, and richly almond-flavored    12   \n",
       "1        27890  Nutty, smooth, and richly almond-flavored    12   \n",
       "2        27890  Nutty, smooth, and richly almond-flavored    12   \n",
       "3        27890  Nutty, smooth, and richly almond-flavored    12   \n",
       "4        27890  Nutty, smooth, and richly almond-flavored    12   \n",
       "\n",
       "  Bottle Volume (ml)  State Bottle Cost State Bottle Retail  Bottles Sold  \\\n",
       "0                750               18.0                27.0             1   \n",
       "1                750               18.0                27.0             3   \n",
       "2                750               18.0                27.0             1   \n",
       "3                750               18.0                27.0             2   \n",
       "4                750               18.0                27.0             1   \n",
       "\n",
       "   Sale (Dollars)  Volume Sold (Liters)  Volume Sold (Gallons)  \n",
       "0            27.0                  0.75                   0.19  \n",
       "1            81.0                  2.25                   0.59  \n",
       "2            27.0                  0.75                   0.19  \n",
       "3            54.0                  1.50                   0.39  \n",
       "4            27.0                  0.75                   0.19  \n",
       "\n",
       "[5 rows x 24 columns]"
      ]
     },
     "execution_count": 3,
     "metadata": {},
     "output_type": "execute_result"
    }
   ],
   "source": [
    "test.head()"
   ]
  },
  {
   "cell_type": "code",
   "execution_count": 4,
   "id": "1bf8f3e4-6034-4c25-ab08-ad47e3b5312e",
   "metadata": {},
   "outputs": [
    {
     "data": {
      "text/plain": [
       "Invoice/Item Number          0\n",
       "Date                         0\n",
       "Store Number                 0\n",
       "Store Name                   0\n",
       "Address                   5246\n",
       "City                         0\n",
       "Zip Code                     0\n",
       "Store Location           97272\n",
       "County Number                0\n",
       "County                       0\n",
       "Category                  3710\n",
       "Category Name             3710\n",
       "Vendor Number                3\n",
       "Vendor Name                  1\n",
       "Item Number                  0\n",
       "Item Description            21\n",
       "Pack                         0\n",
       "Bottle Volume (ml)           0\n",
       "State Bottle Cost            0\n",
       "State Bottle Retail          0\n",
       "Bottles Sold                 0\n",
       "Sale (Dollars)               0\n",
       "Volume Sold (Liters)         0\n",
       "Volume Sold (Gallons)        0\n",
       "dtype: int64"
      ]
     },
     "execution_count": 4,
     "metadata": {},
     "output_type": "execute_result"
    }
   ],
   "source": [
    "test.isnull().sum()"
   ]
  },
  {
   "cell_type": "code",
   "execution_count": 5,
   "id": "2edaa1eb-2722-4a53-a68e-5c939f4475a8",
   "metadata": {},
   "outputs": [],
   "source": [
    "test.dropna(inplace=True)"
   ]
  },
  {
   "cell_type": "code",
   "execution_count": 12,
   "id": "1ce21459-681c-4713-817d-840db35c0c69",
   "metadata": {},
   "outputs": [],
   "source": [
    "test.drop(columns=[\"City\", \"County\"], axis=1, inplace=True)"
   ]
  },
  {
   "cell_type": "code",
   "execution_count": 13,
   "id": "f207abea-0fe2-49c9-a523-5e5dbe47ddf2",
   "metadata": {},
   "outputs": [
    {
     "data": {
      "text/plain": [
       "(947927, 22)"
      ]
     },
     "execution_count": 13,
     "metadata": {},
     "output_type": "execute_result"
    }
   ],
   "source": [
    "test.shape"
   ]
  },
  {
   "cell_type": "code",
   "execution_count": 14,
   "id": "934535f5-8e4b-4d3c-af12-4d7e83d9d8cb",
   "metadata": {},
   "outputs": [
    {
     "data": {
      "text/plain": [
       "Invoice/Item Number      0\n",
       "Date                     0\n",
       "Store Number             0\n",
       "Store Name               0\n",
       "Address                  0\n",
       "Zip Code                 0\n",
       "Store Location           0\n",
       "County Number            0\n",
       "Category                 0\n",
       "Category Name            0\n",
       "Vendor Number            0\n",
       "Vendor Name              0\n",
       "Item Number              0\n",
       "Item Description         0\n",
       "Pack                     0\n",
       "Bottle Volume (ml)       0\n",
       "State Bottle Cost        0\n",
       "State Bottle Retail      0\n",
       "Bottles Sold             0\n",
       "Sale (Dollars)           0\n",
       "Volume Sold (Liters)     0\n",
       "Volume Sold (Gallons)    0\n",
       "dtype: int64"
      ]
     },
     "execution_count": 14,
     "metadata": {},
     "output_type": "execute_result"
    }
   ],
   "source": [
    "test.isnull().sum()"
   ]
  },
  {
   "cell_type": "code",
   "execution_count": 15,
   "id": "d02bdcf3-443a-4e63-804c-a0b8e09e1640",
   "metadata": {},
   "outputs": [],
   "source": [
    "from dateutil import parser\n",
    "\n",
    "# Sample date column\n",
    "date_series = pd.Series([\n",
    "    \"12-06-2018\", \"12/04/2018\", \"11/29/2018\", \"12-11-2018\", \n",
    "    \"12/13/2018\", \"01-08-2019\", \"02/07/2019\", \"06-07-2018\", \n",
    "    \"08-02-2018\", \"10/31/2017\", \"04-09-2014\", \"25-12-2020\", \"31/01/2019\"\n",
    "])\n",
    "\n",
    "# Function to parse mixed date formats\n",
    "def parse_dates(date_str):\n",
    "    try:\n",
    "        return parser.parse(date_str, dayfirst=False)  # Try Month-Day-Year first\n",
    "    except ValueError:\n",
    "        return parser.parse(date_str, dayfirst=True)   # Try Day-Month-Year if failed\n",
    "\n",
    "# Apply function to each date\n",
    "test['Date'] = test['Date'].apply(parse_dates)"
   ]
  },
  {
   "cell_type": "code",
   "execution_count": 16,
   "id": "8dbc86f7-3a79-4be8-8cc5-a6e515a24adc",
   "metadata": {},
   "outputs": [],
   "source": [
    "test[\"Year\"] = test[\"Date\"].dt.year\n",
    "test[\"Month\"] = test[\"Date\"].dt.month\n",
    "test[\"Day\"] = test[\"Date\"].dt.day"
   ]
  },
  {
   "cell_type": "code",
   "execution_count": 17,
   "id": "8168675c-d2d0-4f41-8e60-a4a9a74cbffe",
   "metadata": {},
   "outputs": [],
   "source": [
    "import re\n",
    "\n",
    "def clean_store_name(store):\n",
    "    return re.sub(r'\\s*[/#].*|\\d+', '', store).strip()"
   ]
  },
  {
   "cell_type": "code",
   "execution_count": 18,
   "id": "8454f250-8bb9-4cf9-8526-9db081c3f289",
   "metadata": {},
   "outputs": [],
   "source": [
    "test['Store Name'] = test['Store Name'].apply(clean_store_name)"
   ]
  },
  {
   "cell_type": "code",
   "execution_count": null,
   "id": "efcabb6a-f549-4c06-bf86-f3ed24eaf57b",
   "metadata": {},
   "outputs": [],
   "source": []
  },
  {
   "cell_type": "code",
   "execution_count": 21,
   "id": "fb036c38-317c-4435-94c8-15f48134f7a6",
   "metadata": {},
   "outputs": [],
   "source": [
    "test.to_csv(\"US_data.csv\", index=False)\n"
   ]
  },
  {
   "cell_type": "code",
   "execution_count": 33,
   "id": "2fff8c64-87bc-4056-9758-63c0cb4ec168",
   "metadata": {},
   "outputs": [],
   "source": [
    "zipcode_list = test['Zip Code'].unique().tolist()"
   ]
  },
  {
   "cell_type": "code",
   "execution_count": 42,
   "id": "6e55abc4-65e6-40dd-9f54-5c5632af63d4",
   "metadata": {},
   "outputs": [],
   "source": [
    "zipcode_df = pd.DataFrame({'Zip Code': zipcode_list})\n"
   ]
  },
  {
   "cell_type": "code",
   "execution_count": null,
   "id": "4fc91734-f1e5-4686-99d0-0ee8a0f14dce",
   "metadata": {},
   "outputs": [],
   "source": []
  },
  {
   "cell_type": "code",
   "execution_count": 36,
   "id": "3c5880ee-d9cd-40d1-85d3-cc287aa67a4d",
   "metadata": {},
   "outputs": [],
   "source": [
    "import pgeocode"
   ]
  },
  {
   "cell_type": "code",
   "execution_count": 44,
   "id": "375e74ff-85a1-465e-b76f-6f804f72debe",
   "metadata": {},
   "outputs": [],
   "source": [
    "nomi = pgeocode.Nominatim('us')\n",
    "\n",
    "# Get location details for each ZIP code\n",
    "zipcode_df['city'] = zipcode_df['Zip Code'].apply(lambda x: nomi.query_postal_code(x).place_name)\n",
    "zipcode_df['state'] = zipcode_df['Zip Code'].apply(lambda x: nomi.query_postal_code(x).state_name)"
   ]
  },
  {
   "cell_type": "code",
   "execution_count": 38,
   "id": "1453ce01-f214-43e0-8ac5-e13015cdaeaf",
   "metadata": {
    "scrolled": true
   },
   "outputs": [
    {
     "data": {
      "text/html": [
       "<div>\n",
       "<style scoped>\n",
       "    .dataframe tbody tr th:only-of-type {\n",
       "        vertical-align: middle;\n",
       "    }\n",
       "\n",
       "    .dataframe tbody tr th {\n",
       "        vertical-align: top;\n",
       "    }\n",
       "\n",
       "    .dataframe thead th {\n",
       "        text-align: right;\n",
       "    }\n",
       "</style>\n",
       "<table border=\"1\" class=\"dataframe\">\n",
       "  <thead>\n",
       "    <tr style=\"text-align: right;\">\n",
       "      <th></th>\n",
       "      <th>zipcode</th>\n",
       "      <th>city</th>\n",
       "      <th>state</th>\n",
       "    </tr>\n",
       "  </thead>\n",
       "  <tbody>\n",
       "    <tr>\n",
       "      <th>0</th>\n",
       "      <td>50613</td>\n",
       "      <td>Cedar Falls</td>\n",
       "      <td>Iowa</td>\n",
       "    </tr>\n",
       "    <tr>\n",
       "      <th>1</th>\n",
       "      <td>52240</td>\n",
       "      <td>Iowa City</td>\n",
       "      <td>Iowa</td>\n",
       "    </tr>\n",
       "    <tr>\n",
       "      <th>2</th>\n",
       "      <td>52245</td>\n",
       "      <td>Iowa City</td>\n",
       "      <td>Iowa</td>\n",
       "    </tr>\n",
       "    <tr>\n",
       "      <th>3</th>\n",
       "      <td>50401</td>\n",
       "      <td>Mason City</td>\n",
       "      <td>Iowa</td>\n",
       "    </tr>\n",
       "    <tr>\n",
       "      <th>4</th>\n",
       "      <td>52057</td>\n",
       "      <td>Manchester</td>\n",
       "      <td>Iowa</td>\n",
       "    </tr>\n",
       "  </tbody>\n",
       "</table>\n",
       "</div>"
      ],
      "text/plain": [
       "   zipcode         city state\n",
       "0    50613  Cedar Falls  Iowa\n",
       "1    52240    Iowa City  Iowa\n",
       "2    52245    Iowa City  Iowa\n",
       "3    50401   Mason City  Iowa\n",
       "4    52057   Manchester  Iowa"
      ]
     },
     "execution_count": 38,
     "metadata": {},
     "output_type": "execute_result"
    }
   ],
   "source": [
    "zipcode_df.head()"
   ]
  },
  {
   "cell_type": "code",
   "execution_count": 46,
   "id": "a1bc5ee8-3c77-41b3-b417-a29af4823dd2",
   "metadata": {},
   "outputs": [],
   "source": [
    "result_df = test.merge(zipcode_df, on='Zip Code', how='right')"
   ]
  },
  {
   "cell_type": "code",
   "execution_count": 54,
   "id": "c5b408fa-2a29-4712-a527-59a371bf5d7d",
   "metadata": {},
   "outputs": [],
   "source": [
    "\n",
    "# Extract Longitude & Latitude\n",
    "result_df['Longitude'] = result_df['Store Location'].str.extract(r'POINT \\((-?\\d+\\.\\d+)')\n",
    "result_df['Latitude'] = result_df['Store Location'].str.extract(r' (-?\\d+\\.\\d+)\\)')\n",
    "\n",
    "# Convert to Float\n",
    "result_df[['Longitude', 'Latitude']] = result_df[['Longitude', 'Latitude']].astype(float)"
   ]
  },
  {
   "cell_type": "code",
   "execution_count": 60,
   "id": "def3ac4f-07d8-40e0-9181-83aff39ca0a8",
   "metadata": {},
   "outputs": [],
   "source": [
    "result_df.dropna(inplace=True)"
   ]
  },
  {
   "cell_type": "code",
   "execution_count": 62,
   "id": "9076e710-49f4-4a91-9cdb-4f9a3ddb3794",
   "metadata": {
    "scrolled": true
   },
   "outputs": [
    {
     "data": {
      "text/plain": [
       "(945570, 29)"
      ]
     },
     "execution_count": 62,
     "metadata": {},
     "output_type": "execute_result"
    }
   ],
   "source": [
    "result_df.shape"
   ]
  },
  {
   "cell_type": "code",
   "execution_count": null,
   "id": "df96f996-683c-4347-9c6d-797951c25190",
   "metadata": {},
   "outputs": [],
   "source": []
  },
  {
   "cell_type": "code",
   "execution_count": 63,
   "id": "f85b4e27-3d5b-4edc-98a7-6640fcf1ee29",
   "metadata": {
    "scrolled": true
   },
   "outputs": [],
   "source": [
    "result_df.to_csv(\"final_data_us.csv\", index=False)\n"
   ]
  },
  {
   "cell_type": "code",
   "execution_count": 65,
   "id": "51a2e84b-197a-446a-b4b4-345877bb481e",
   "metadata": {},
   "outputs": [
    {
     "data": {
      "text/plain": [
       "Index(['Invoice/Item Number', 'Date', 'Store Number', 'Store Name', 'Address',\n",
       "       'Zip Code', 'Store Location', 'County Number', 'Category',\n",
       "       'Category Name', 'Vendor Number', 'Vendor Name', 'Item Number',\n",
       "       'Item Description', 'Pack', 'Bottle Volume (ml)', 'State Bottle Cost',\n",
       "       'State Bottle Retail', 'Bottles Sold', 'Sale (Dollars)',\n",
       "       'Volume Sold (Liters)', 'Volume Sold (Gallons)', 'Year', 'Month', 'Day',\n",
       "       'city', 'state', 'Longitude', 'Latitude'],\n",
       "      dtype='object')"
      ]
     },
     "execution_count": 65,
     "metadata": {},
     "output_type": "execute_result"
    }
   ],
   "source": [
    "result_df.columns"
   ]
  },
  {
   "cell_type": "code",
   "execution_count": 64,
   "id": "0c9d54ac-2e1e-45f5-9128-e72b59f0838e",
   "metadata": {},
   "outputs": [
    {
     "data": {
      "text/html": [
       "<div>\n",
       "<style scoped>\n",
       "    .dataframe tbody tr th:only-of-type {\n",
       "        vertical-align: middle;\n",
       "    }\n",
       "\n",
       "    .dataframe tbody tr th {\n",
       "        vertical-align: top;\n",
       "    }\n",
       "\n",
       "    .dataframe thead th {\n",
       "        text-align: right;\n",
       "    }\n",
       "</style>\n",
       "<table border=\"1\" class=\"dataframe\">\n",
       "  <thead>\n",
       "    <tr style=\"text-align: right;\">\n",
       "      <th></th>\n",
       "      <th>Invoice/Item Number</th>\n",
       "      <th>Date</th>\n",
       "      <th>Store Number</th>\n",
       "      <th>Store Name</th>\n",
       "      <th>Address</th>\n",
       "      <th>Zip Code</th>\n",
       "      <th>Store Location</th>\n",
       "      <th>County Number</th>\n",
       "      <th>Category</th>\n",
       "      <th>Category Name</th>\n",
       "      <th>...</th>\n",
       "      <th>Sale (Dollars)</th>\n",
       "      <th>Volume Sold (Liters)</th>\n",
       "      <th>Volume Sold (Gallons)</th>\n",
       "      <th>Year</th>\n",
       "      <th>Month</th>\n",
       "      <th>Day</th>\n",
       "      <th>city</th>\n",
       "      <th>state</th>\n",
       "      <th>Longitude</th>\n",
       "      <th>Latitude</th>\n",
       "    </tr>\n",
       "  </thead>\n",
       "  <tbody>\n",
       "    <tr>\n",
       "      <th>0</th>\n",
       "      <td>INV-16131500152</td>\n",
       "      <td>2018-12-06</td>\n",
       "      <td>4988</td>\n",
       "      <td>HAPPY'S STORES</td>\n",
       "      <td>5925 UNIVERSITY AVE</td>\n",
       "      <td>50613</td>\n",
       "      <td>POINT (-92.429331 42.512766)</td>\n",
       "      <td>7</td>\n",
       "      <td>1011100.0</td>\n",
       "      <td>Almond Brew</td>\n",
       "      <td>...</td>\n",
       "      <td>27.0</td>\n",
       "      <td>0.75</td>\n",
       "      <td>0.19</td>\n",
       "      <td>2018</td>\n",
       "      <td>12</td>\n",
       "      <td>6</td>\n",
       "      <td>Cedar Falls</td>\n",
       "      <td>Iowa</td>\n",
       "      <td>-92.429331</td>\n",
       "      <td>42.512766</td>\n",
       "    </tr>\n",
       "    <tr>\n",
       "      <th>1</th>\n",
       "      <td>INV-15962400282</td>\n",
       "      <td>2018-11-29</td>\n",
       "      <td>4988</td>\n",
       "      <td>HAPPY'S STORES</td>\n",
       "      <td>5925 UNIVERSITY AVE</td>\n",
       "      <td>50613</td>\n",
       "      <td>POINT (-92.429331 42.512766)</td>\n",
       "      <td>7</td>\n",
       "      <td>1011100.0</td>\n",
       "      <td>Almond Brew</td>\n",
       "      <td>...</td>\n",
       "      <td>27.0</td>\n",
       "      <td>0.75</td>\n",
       "      <td>0.19</td>\n",
       "      <td>2018</td>\n",
       "      <td>11</td>\n",
       "      <td>29</td>\n",
       "      <td>Cedar Falls</td>\n",
       "      <td>Iowa</td>\n",
       "      <td>-92.429331</td>\n",
       "      <td>42.512766</td>\n",
       "    </tr>\n",
       "    <tr>\n",
       "      <th>2</th>\n",
       "      <td>INV-17228100055</td>\n",
       "      <td>2019-01-29</td>\n",
       "      <td>2572</td>\n",
       "      <td>HY-VEE FOOD STORE</td>\n",
       "      <td>6301 UNIVERSITY</td>\n",
       "      <td>50613</td>\n",
       "      <td>POINT (-92.435236 42.512789)</td>\n",
       "      <td>7</td>\n",
       "      <td>1011100.0</td>\n",
       "      <td>Almond Brew</td>\n",
       "      <td>...</td>\n",
       "      <td>54.0</td>\n",
       "      <td>1.50</td>\n",
       "      <td>0.39</td>\n",
       "      <td>2019</td>\n",
       "      <td>1</td>\n",
       "      <td>29</td>\n",
       "      <td>Cedar Falls</td>\n",
       "      <td>Iowa</td>\n",
       "      <td>-92.435236</td>\n",
       "      <td>42.512789</td>\n",
       "    </tr>\n",
       "    <tr>\n",
       "      <th>3</th>\n",
       "      <td>INV-17357000043</td>\n",
       "      <td>2019-02-05</td>\n",
       "      <td>2572</td>\n",
       "      <td>HY-VEE FOOD STORE</td>\n",
       "      <td>6301 UNIVERSITY</td>\n",
       "      <td>50613</td>\n",
       "      <td>POINT (-92.435236 42.512789)</td>\n",
       "      <td>7</td>\n",
       "      <td>1011100.0</td>\n",
       "      <td>Almond Brew</td>\n",
       "      <td>...</td>\n",
       "      <td>54.0</td>\n",
       "      <td>1.50</td>\n",
       "      <td>0.39</td>\n",
       "      <td>2019</td>\n",
       "      <td>2</td>\n",
       "      <td>5</td>\n",
       "      <td>Cedar Falls</td>\n",
       "      <td>Iowa</td>\n",
       "      <td>-92.435236</td>\n",
       "      <td>42.512789</td>\n",
       "    </tr>\n",
       "    <tr>\n",
       "      <th>4</th>\n",
       "      <td>INV-17514700036</td>\n",
       "      <td>2019-02-12</td>\n",
       "      <td>2572</td>\n",
       "      <td>HY-VEE FOOD STORE</td>\n",
       "      <td>6301 UNIVERSITY</td>\n",
       "      <td>50613</td>\n",
       "      <td>POINT (-92.435236 42.512789)</td>\n",
       "      <td>7</td>\n",
       "      <td>1011100.0</td>\n",
       "      <td>Almond Brew</td>\n",
       "      <td>...</td>\n",
       "      <td>81.0</td>\n",
       "      <td>2.25</td>\n",
       "      <td>0.59</td>\n",
       "      <td>2019</td>\n",
       "      <td>2</td>\n",
       "      <td>12</td>\n",
       "      <td>Cedar Falls</td>\n",
       "      <td>Iowa</td>\n",
       "      <td>-92.435236</td>\n",
       "      <td>42.512789</td>\n",
       "    </tr>\n",
       "  </tbody>\n",
       "</table>\n",
       "<p>5 rows × 29 columns</p>\n",
       "</div>"
      ],
      "text/plain": [
       "  Invoice/Item Number       Date  Store Number         Store Name  \\\n",
       "0     INV-16131500152 2018-12-06          4988     HAPPY'S STORES   \n",
       "1     INV-15962400282 2018-11-29          4988     HAPPY'S STORES   \n",
       "2     INV-17228100055 2019-01-29          2572  HY-VEE FOOD STORE   \n",
       "3     INV-17357000043 2019-02-05          2572  HY-VEE FOOD STORE   \n",
       "4     INV-17514700036 2019-02-12          2572  HY-VEE FOOD STORE   \n",
       "\n",
       "               Address  Zip Code                Store Location  County Number  \\\n",
       "0  5925 UNIVERSITY AVE     50613  POINT (-92.429331 42.512766)              7   \n",
       "1  5925 UNIVERSITY AVE     50613  POINT (-92.429331 42.512766)              7   \n",
       "2      6301 UNIVERSITY     50613  POINT (-92.435236 42.512789)              7   \n",
       "3      6301 UNIVERSITY     50613  POINT (-92.435236 42.512789)              7   \n",
       "4      6301 UNIVERSITY     50613  POINT (-92.435236 42.512789)              7   \n",
       "\n",
       "    Category Category Name  ...  Sale (Dollars) Volume Sold (Liters)  \\\n",
       "0  1011100.0   Almond Brew  ...            27.0                 0.75   \n",
       "1  1011100.0   Almond Brew  ...            27.0                 0.75   \n",
       "2  1011100.0   Almond Brew  ...            54.0                 1.50   \n",
       "3  1011100.0   Almond Brew  ...            54.0                 1.50   \n",
       "4  1011100.0   Almond Brew  ...            81.0                 2.25   \n",
       "\n",
       "   Volume Sold (Gallons)  Year  Month  Day         city  state  Longitude  \\\n",
       "0                   0.19  2018     12    6  Cedar Falls   Iowa -92.429331   \n",
       "1                   0.19  2018     11   29  Cedar Falls   Iowa -92.429331   \n",
       "2                   0.39  2019      1   29  Cedar Falls   Iowa -92.435236   \n",
       "3                   0.39  2019      2    5  Cedar Falls   Iowa -92.435236   \n",
       "4                   0.59  2019      2   12  Cedar Falls   Iowa -92.435236   \n",
       "\n",
       "    Latitude  \n",
       "0  42.512766  \n",
       "1  42.512766  \n",
       "2  42.512789  \n",
       "3  42.512789  \n",
       "4  42.512789  \n",
       "\n",
       "[5 rows x 29 columns]"
      ]
     },
     "execution_count": 64,
     "metadata": {},
     "output_type": "execute_result"
    }
   ],
   "source": [
    "result_df.head()"
   ]
  },
  {
   "cell_type": "code",
   "execution_count": 50,
   "id": "ec68d18d-5321-4286-883f-95f8c49821ed",
   "metadata": {},
   "outputs": [],
   "source": [
    "dash = pd.read_csv(\"final_USA_dataset.csv\")"
   ]
  },
  {
   "cell_type": "code",
   "execution_count": 48,
   "id": "cd696a3e-16b4-41c5-9adf-b5fd43ec508f",
   "metadata": {},
   "outputs": [
    {
     "name": "stdout",
     "output_type": "stream",
     "text": [
      "^C\n"
     ]
    }
   ],
   "source": [
    "!pip uninstall geopy"
   ]
  },
  {
   "cell_type": "markdown",
   "id": "fafcc1f0-2f84-4f0e-b2b0-f3e824b84d3d",
   "metadata": {},
   "source": [
    "# Models For Strategies"
   ]
  },
  {
   "cell_type": "code",
   "execution_count": 6,
   "id": "541a5ff7-3d4f-4f2c-87d3-12f3e1ff555d",
   "metadata": {},
   "outputs": [],
   "source": [
    "result_df = pd.read_csv(\"final_data_us.csv\")"
   ]
  },
  {
   "cell_type": "code",
   "execution_count": 2,
   "id": "eff7d061-7146-429d-bdcc-bb6128641a21",
   "metadata": {},
   "outputs": [],
   "source": [
    "import pandas as pd\n",
    "import numpy as np\n",
    "import matplotlib.pyplot as plt\n",
    "import seaborn as sns\n",
    "from sklearn.cluster import KMeans\n",
    "from sklearn.preprocessing import StandardScaler\n",
    "from sklearn.linear_model import LinearRegression\n",
    "from sklearn.model_selection import train_test_split"
   ]
  },
  {
   "cell_type": "code",
   "execution_count": 7,
   "id": "00061f67-ddf1-4da1-bd99-b6cbd6ff9977",
   "metadata": {},
   "outputs": [],
   "source": [
    "df = result_df.copy()"
   ]
  },
  {
   "cell_type": "code",
   "execution_count": 70,
   "id": "cb0d96bd-3955-4956-9159-b366863c0628",
   "metadata": {},
   "outputs": [
    {
     "data": {
      "image/png": "[encoded data removed]",
      "text/plain": [
       "<Figure size 800x600 with 1 Axes>"
      ]
     },
     "metadata": {},
     "output_type": "display_data"
    }
   ],
   "source": [
    "store_df = df[['Store Number', 'Bottles Sold', 'Sale (Dollars)']]\n",
    "store_df = store_df.groupby('Store Number').sum()\n",
    "scaler = StandardScaler()\n",
    "store_scaled = scaler.fit_transform(store_df)\n",
    "kmeans = KMeans(n_clusters=3, random_state=42)\n",
    "store_df['Cluster'] = kmeans.fit_predict(store_scaled)\n",
    "plt.figure(figsize=(8,6))\n",
    "sns.scatterplot(x=store_df['Bottles Sold'], y=store_df['Sale (Dollars)'], hue=store_df['Cluster'], palette='viridis')\n",
    "plt.title('Store Performance Clustering')\n",
    "plt.show()"
   ]
  },
  {
   "cell_type": "code",
   "execution_count": 77,
   "id": "70ad572a-898b-4754-ab63-ef897f632d47",
   "metadata": {},
   "outputs": [
    {
     "name": "stdout",
     "output_type": "stream",
     "text": [
      "<class 'pandas.core.frame.DataFrame'>\n",
      "Index: 945570 entries, 0 to 947926\n",
      "Data columns (total 29 columns):\n",
      " #   Column                 Non-Null Count   Dtype         \n",
      "---  ------                 --------------   -----         \n",
      " 0   Invoice/Item Number    945570 non-null  object        \n",
      " 1   Date                   945570 non-null  datetime64[ns]\n",
      " 2   Store Number           945570 non-null  int64         \n",
      " 3   Store Name             945570 non-null  object        \n",
      " 4   Address                945570 non-null  object        \n",
      " 5   Zip Code               945570 non-null  int64         \n",
      " 6   Store Location         945570 non-null  object        \n",
      " 7   County Number          945570 non-null  int64         \n",
      " 8   Category               945570 non-null  float64       \n",
      " 9   Category Name          945570 non-null  object        \n",
      " 10  Vendor Number          945570 non-null  float64       \n",
      " 11  Vendor Name            945570 non-null  object        \n",
      " 12  Item Number            945570 non-null  int64         \n",
      " 13  Item Description       945570 non-null  object        \n",
      " 14  Pack                   945570 non-null  int64         \n",
      " 15  Bottle Volume (ml)     945570 non-null  int64         \n",
      " 16  State Bottle Cost      945570 non-null  float64       \n",
      " 17  State Bottle Retail    945570 non-null  float64       \n",
      " 18  Bottles Sold           945570 non-null  int64         \n",
      " 19  Sale (Dollars)         945570 non-null  float64       \n",
      " 20  Volume Sold (Liters)   945570 non-null  float64       \n",
      " 21  Volume Sold (Gallons)  945570 non-null  float64       \n",
      " 22  Year                   945570 non-null  int32         \n",
      " 23  Month                  945570 non-null  int32         \n",
      " 24  Day                    945570 non-null  int32         \n",
      " 25  city                   945570 non-null  object        \n",
      " 26  state                  945570 non-null  object        \n",
      " 27  Longitude              945570 non-null  float64       \n",
      " 28  Latitude               945570 non-null  float64       \n",
      "dtypes: datetime64[ns](1), float64(9), int32(3), int64(7), object(9)\n",
      "memory usage: 205.6+ MB\n"
     ]
    }
   ],
   "source": [
    "df.info()"
   ]
  },
  {
   "cell_type": "code",
   "execution_count": 76,
   "id": "b46eec97-6d06-42ca-b763-2e85dc3cc733",
   "metadata": {},
   "outputs": [
    {
     "data": {
      "image/png": "[encoded data removed]",
      "text/plain": [
       "<Figure size 800x600 with 1 Axes>"
      ]
     },
     "metadata": {},
     "output_type": "display_data"
    }
   ],
   "source": [
    "\n",
    "consumer_df = df[['Category Name', 'Bottles Sold', 'Sale (Dollars)', 'Volume Sold (Gallons)', 'Pack']]\n",
    "consumer_df = consumer_df.groupby('Category Name').sum()\n",
    "consumer_scaled = scaler.fit_transform(consumer_df)\n",
    "kmeans_consumer = KMeans(n_clusters=4, random_state=42)\n",
    "consumer_df['Segment'] = kmeans_consumer.fit_predict(consumer_scaled)\n",
    "plt.figure(figsize=(8,6))\n",
    "sns.scatterplot(x=consumer_df['Bottles Sold'], y=consumer_df['Sale (Dollars)'], hue=consumer_df['Segment'], palette='coolwarm')\n",
    "plt.title('Consumer Demand Segmentation')\n",
    "plt.show()\n"
   ]
  },
  {
   "cell_type": "code",
   "execution_count": 73,
   "id": "a4666b23-bdc4-4e0e-a771-81a6c59f20bd",
   "metadata": {},
   "outputs": [
    {
     "name": "stdout",
     "output_type": "stream",
     "text": [
      "Promotion Effectiveness Model Score: 0.005831805613984442\n"
     ]
    }
   ],
   "source": [
    "promo_df = df[['Month', 'Sale (Dollars)', 'Bottles Sold', 'State Bottle Retail']]\n",
    "X = promo_df[['Month', 'State Bottle Retail']]\n",
    "y = promo_df['Sale (Dollars)']\n",
    "X_train, X_test, y_train, y_test = train_test_split(X, y, test_size=0.2, random_state=42)\n",
    "model = LinearRegression()\n",
    "model.fit(X_train, y_train)\n",
    "y_pred = model.predict(X_test)\n",
    "print(f'Promotion Effectiveness Model Score: {model.score(X_test, y_test)}')\n"
   ]
  },
  {
   "cell_type": "markdown",
   "id": "a6ec8057-7c32-4dea-ad68-ad021985db9a",
   "metadata": {},
   "source": [
    "# model for inventory Management"
   ]
  },
  {
   "cell_type": "code",
   "execution_count": 8,
   "id": "bd605881-def7-4f81-9544-bc7bc096d018",
   "metadata": {},
   "outputs": [],
   "source": [
    "from sklearn.model_selection import train_test_split\n",
    "from sklearn.preprocessing import LabelEncoder\n",
    "from sklearn.ensemble import RandomForestRegressor\n",
    "from sklearn.metrics import r2_score, mean_squared_error, mean_absolute_error\n",
    "from sklearn.linear_model import LinearRegression\n",
    "from sklearn.svm import SVR"
   ]
  },
  {
   "cell_type": "code",
   "execution_count": 9,
   "id": "c2ade774-4b24-4e8f-8771-a7a76103593a",
   "metadata": {},
   "outputs": [],
   "source": [
    "# Encoding categorical variables\n",
    "for col in ['Category Name', 'Vendor Name', 'Item Description']:\n",
    "    df[col] = LabelEncoder().fit_transform(df[col])"
   ]
  },
  {
   "cell_type": "code",
   "execution_count": 10,
   "id": "27c012fc-d299-4b6d-85db-782ae02e90fe",
   "metadata": {},
   "outputs": [],
   "source": [
    "categorical_cols = ['Store Name', 'Category Name', 'Vendor Name', 'Item Description', 'city', 'state']\n",
    "\n",
    "# Encode categorical columns\n",
    "label_encoders = {}\n",
    "for col in categorical_cols:\n",
    "    le = LabelEncoder()\n",
    "    df[col] = le.fit_transform(df[col])\n",
    "    label_encoders[col] = le  # Save encoders if needed for inverse transformation\n"
   ]
  },
  {
   "cell_type": "code",
   "execution_count": 11,
   "id": "2b931660-24b4-4b2a-8c6b-0386287eff08",
   "metadata": {},
   "outputs": [],
   "source": [
    "# Feature and target selection\n",
    "X = df.drop(columns=['Invoice/Item Number','Date','Bottles Sold', 'Sale (Dollars)','Address','Store Location'])\n",
    "y = df['Bottles Sold']"
   ]
  },
  {
   "cell_type": "code",
   "execution_count": 12,
   "id": "8625edd9-3ff7-4afd-907d-aefa29f3ec4e",
   "metadata": {},
   "outputs": [],
   "source": [
    "X_train, X_test, y_train, y_test = train_test_split(X, y, test_size=0.2, random_state=42)"
   ]
  },
  {
   "cell_type": "code",
   "execution_count": 13,
   "id": "e33bb8a6-4ff6-44f7-859c-f3d559ae9e31",
   "metadata": {},
   "outputs": [],
   "source": [
    "models = {\n",
    "    'Random Forest': RandomForestRegressor(n_estimators=100, random_state=42),\n",
    "    'Linear Regression': LinearRegression(),\n",
    "    'SVM': SVR()\n",
    "}"
   ]
  },
  {
   "cell_type": "code",
   "execution_count": null,
   "id": "f80d81c8-00a8-4478-95e2-5d2cacfab2ba",
   "metadata": {},
   "outputs": [],
   "source": [
    "results = {}\n",
    "for name, model in models.items():\n",
    "    model.fit(X_train, y_train)\n",
    "    y_pred = model.predict(X_test)\n",
    "    results[name] = {\n",
    "        'R2 Score': r2_score(y_test, y_pred),\n",
    "        'RMSE': mean_squared_error(y_test, y_pred),\n",
    "        'MAE': mean_absolute_error(y_test, y_pred)\n",
    "    }\n",
    "\n",
    "results"
   ]
  }
 ],
 "metadata": {
  "kernelspec": {
   "display_name": "Python 3 (ipykernel)",
   "language": "python",
   "name": "python3"
  },
  "language_info": {
   "codemirror_mode": {
    "name": "ipython",
    "version": 3
   },
   "file_extension": ".py",
   "mimetype": "text/x-python",
   "name": "python",
   "nbconvert_exporter": "python",
   "pygments_lexer": "ipython3",
   "version": "3.11.0"
  }
 },
 "nbformat": 4,
 "nbformat_minor": 5
}
